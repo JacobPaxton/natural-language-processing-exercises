{
 "cells": [
  {
   "cell_type": "code",
   "execution_count": 1,
   "id": "682b9967",
   "metadata": {},
   "outputs": [],
   "source": [
    "import pandas as pd\n",
    "import re"
   ]
  },
  {
   "cell_type": "markdown",
   "id": "8e8861b0",
   "metadata": {},
   "source": [
    "1. Write a function named is_vowel. It should accept a string as input and use a regular expression to determine if the passed string is a vowel. While not explicity mentioned in the lesson, you can treat the result of re.search as a boolean value that indicates whether or not the regular expression matches the given string."
   ]
  },
  {
   "cell_type": "code",
   "execution_count": 2,
   "id": "6460a516",
   "metadata": {},
   "outputs": [],
   "source": [
    "def is_vowel(string):\n",
    "    regexp = r'[aeiou]'\n",
    "    return re.search(regexp, string, re.IGNORECASE) != None"
   ]
  },
  {
   "cell_type": "code",
   "execution_count": 3,
   "id": "93b994e6",
   "metadata": {},
   "outputs": [
    {
     "name": "stdout",
     "output_type": "stream",
     "text": [
      "a: True\n",
      "b: False\n",
      "A: True\n"
     ]
    }
   ],
   "source": [
    "print('a:', is_vowel('a'))\n",
    "print('b:', is_vowel('b'))\n",
    "print('A:', is_vowel('A'))"
   ]
  },
  {
   "cell_type": "code",
   "execution_count": 4,
   "id": "59aed6b9",
   "metadata": {},
   "outputs": [
    {
     "data": {
      "text/plain": [
       "<re.Match object; span=(0, 1), match='h'>"
      ]
     },
     "execution_count": 4,
     "metadata": {},
     "output_type": "execute_result"
    }
   ],
   "source": [
    "re.search(r'h', 'hello')"
   ]
  },
  {
   "cell_type": "markdown",
   "id": "07f4212a",
   "metadata": {},
   "source": [
    "2. Write a function named is_valid_username that accepts a string as input. A valid username starts with a lowercase letter, and only consists of lowercase letters, numbers, or the _ character. It should also be no longer than 32 characters. The function should return either True or False depending on whether the passed string is a valid username.\n",
    "\n",
    "\n",
    "> is_valid_username('aaaaaaaaaaaaaaaaaaaaaaaaaaaaaaaaa')\n",
    "False\n",
    "\n",
    "> is_valid_username('codeup')\n",
    "True\n",
    "\n",
    "> is_valid_username('Codeup')\n",
    "False\n",
    "\n",
    "> is_valid_username('codeup123')\n",
    "True\n",
    "\n",
    "> is_valid_username('1codeup')\n",
    "False"
   ]
  },
  {
   "cell_type": "code",
   "execution_count": 5,
   "id": "defb0904",
   "metadata": {},
   "outputs": [],
   "source": [
    "def is_valid_username(string):\n",
    "    regexp = r'^[a-z][_a-z0-9]*$'\n",
    "    return (re.search(regexp, string) != None) & (len(string) <= 32)"
   ]
  },
  {
   "cell_type": "code",
   "execution_count": 6,
   "id": "0bbafcf8",
   "metadata": {},
   "outputs": [
    {
     "name": "stdout",
     "output_type": "stream",
     "text": [
      "aaaaaaaaaaaaaaaaaaaaaaaaaaaaaaaaa: False\n",
      "codeup: True\n",
      "Codeup: False\n",
      "codeup123: True\n",
      "1codeup: False\n",
      "codeup_123: True\n"
     ]
    }
   ],
   "source": [
    "print('aaaaaaaaaaaaaaaaaaaaaaaaaaaaaaaaa:', is_valid_username('aaaaaaaaaaaaaaaaaaaaaaaaaaaaaaaaa'))\n",
    "print('codeup:', is_valid_username('codeup'))\n",
    "print('Codeup:', is_valid_username('Codeup'))\n",
    "print('codeup123:', is_valid_username('codeup123'))\n",
    "print('1codeup:', is_valid_username('1codeup'))\n",
    "print('codeup_123:', is_valid_username('codeup_123'))"
   ]
  },
  {
   "cell_type": "markdown",
   "id": "5542d989",
   "metadata": {},
   "source": [
    "3. Write a regular expression to capture phone numbers. It should match all of the following:\n",
    "\n",
    "\n",
    "> (210) 867 5309\n",
    "\n",
    "> +1 210.867.5309\n",
    "\n",
    "> 867-5309\n",
    "\n",
    "> 210-867-5309"
   ]
  },
  {
   "cell_type": "code",
   "execution_count": 7,
   "id": "70927c90",
   "metadata": {},
   "outputs": [],
   "source": [
    "def phone_number(string):\n",
    "    country = area = exchange = line = ''\n",
    "    regexp = r'\\d+'\n",
    "    number_list = re.findall(regexp, string)\n",
    "    line = str(number_list[-1])\n",
    "    exchange = str(number_list[-2])\n",
    "    if len(number_list) == 3:\n",
    "        area = str(number_list[-3])\n",
    "        return area + '.' + exchange + '.' + line\n",
    "    if len(number_list) == 4:\n",
    "        area = str(number_list[-3])\n",
    "        country = str(number_list[-4])\n",
    "        return '+' + country + ' ' + area + '.' + exchange + '.' + line\n",
    "    return exchange + '.' + line"
   ]
  },
  {
   "cell_type": "code",
   "execution_count": 8,
   "id": "1ad2503a",
   "metadata": {},
   "outputs": [
    {
     "name": "stdout",
     "output_type": "stream",
     "text": [
      "210.867.5309\n",
      "+1 210.867.5309\n",
      "867.5309\n",
      "210.867.5309\n"
     ]
    }
   ],
   "source": [
    "print(phone_number('(210) 867 5309'))\n",
    "print(phone_number('+1 210.867.5309'))\n",
    "print(phone_number('867-5309'))\n",
    "print(phone_number('210-867-5309'))"
   ]
  },
  {
   "cell_type": "markdown",
   "id": "3c26d590",
   "metadata": {},
   "source": [
    "4. Use regular expressions to convert the dates below to the standardized year-month-day format.\n",
    "\n",
    "\n",
    "> 02/04/19\n",
    "\n",
    "> 02/05/19\n",
    "\n",
    "> 02/06/19\n",
    "\n",
    "> 02/07/19\n",
    "\n",
    "> 02/08/19\n",
    "\n",
    "> 02/09/19\n",
    "\n",
    "> 02/10/19"
   ]
  },
  {
   "cell_type": "code",
   "execution_count": 9,
   "id": "6b0a0851",
   "metadata": {},
   "outputs": [],
   "source": [
    "def ymd(s):\n",
    "    regexp = r'(\\d\\d)\\D(\\d\\d)\\D(\\d\\d)'\n",
    "    return s.str.replace(regexp, r'\\3/\\2/\\1', regex=True)"
   ]
  },
  {
   "cell_type": "code",
   "execution_count": 10,
   "id": "5d846bd8",
   "metadata": {},
   "outputs": [
    {
     "data": {
      "text/plain": [
       "0    19/04/02\n",
       "1    19/05/02\n",
       "2    19/06/02\n",
       "3    19/07/02\n",
       "4    19/08/02\n",
       "5    19/09/02\n",
       "6    19/10/02\n",
       "dtype: object"
      ]
     },
     "execution_count": 10,
     "metadata": {},
     "output_type": "execute_result"
    }
   ],
   "source": [
    "s = pd.Series([\"02/04/19\",\"02/05/19\",\"02/06/19\",\"02/07/19\",\"02/08/19\",\"02/09/19\",\"02/10/19\"])\n",
    "ymd(s)"
   ]
  },
  {
   "cell_type": "markdown",
   "id": "c1c665d9",
   "metadata": {},
   "source": [
    "5. Write a regex to extract the various parts of these logfile lines:\n",
    "\n",
    "\n",
    "> GET /api/v1/sales?page=86 [16/Apr/2019:193452+0000] HTTP/1.1 {200} 510348 \"python-requests/2.21.0\" 97.105.19.58\n",
    "\n",
    "> POST /users_accounts/file-upload [16/Apr/2019:193452+0000] HTTP/1.1 {201} 42 \"User-Agent: Mozilla/5.0 (X11; Fedora; Fedora; Linux x86_64) AppleWebKit/537.36 (KHTML, like Gecko) Chrome/73.0.3683.86 Safari/537.36\" 97.105.19.58\n",
    "\n",
    ">GET /api/v1/items?page=3 [16/Apr/2019:193453+0000] HTTP/1.1 {429} 3561 \"python-requests/2.21.0\" 97.105.19.58"
   ]
  },
  {
   "cell_type": "code",
   "execution_count": 11,
   "id": "d677275c",
   "metadata": {},
   "outputs": [],
   "source": [
    "def logfile_splitter(string):\n",
    "    regexp = '^(\\S+)\\s(\\S+)\\s\\[(\\S+)\\]\\s(\\S+)\\s\\{(\\S+)\\}\\s(\\S+)\\s\"(.+)\"\\s(\\S+)$'\n",
    "    items = re.findall(regexp, string)[0]\n",
    "    log_dict = {'cmd':str(items[0]), 'query':str(items[1]), 'date':str(items[2]),\n",
    "                'version':str(items[3]), 'status':str(items[4]), 'id':str(items[5]),\n",
    "                'agent':str(items[6]), 'ip':str(items[7])}\n",
    "    \n",
    "    return log_dict"
   ]
  },
  {
   "cell_type": "code",
   "execution_count": 29,
   "id": "4006a1ab",
   "metadata": {},
   "outputs": [],
   "source": [
    "loglist = ['GET /api/v1/sales?page=86 [16/Apr/2019:193452+0000] HTTP/1.1 {200} 510348 \"python-requests/2.21.0\" 97.105.19.58',\n",
    "           'POST /users_accounts/file-upload [16/Apr/2019:193452+0000] HTTP/1.1 {201} 42 \"User-Agent: Mozilla/5.0 (X11; Fedora; Fedora; Linux x86_64) AppleWebKit/537.36 (KHTML, like Gecko) Chrome/73.0.3683.86 Safari/537.36\" 97.105.19.58',\n",
    "           'GET /api/v1/items?page=3 [16/Apr/2019:193453+0000] HTTP/1.1 {429} 3561 \"python-requests/2.21.0\" 97.105.19.58']\n",
    "\n",
    "df = pd.DataFrame({'cmd':[], 'query':[], 'date':[], 'version':[], 'status':[], 'id':[],\n",
    "                   'agent':[], 'ip':[]})\n",
    "\n",
    "dflist = []\n",
    "for log in loglist:\n",
    "    dflist.append(logfile_splitter(log))\n",
    "\n",
    "df = pd.DataFrame(dflist)"
   ]
  },
  {
   "cell_type": "code",
   "execution_count": 30,
   "id": "905f40a8",
   "metadata": {},
   "outputs": [
    {
     "data": {
      "text/html": [
       "<div>\n",
       "<style scoped>\n",
       "    .dataframe tbody tr th:only-of-type {\n",
       "        vertical-align: middle;\n",
       "    }\n",
       "\n",
       "    .dataframe tbody tr th {\n",
       "        vertical-align: top;\n",
       "    }\n",
       "\n",
       "    .dataframe thead th {\n",
       "        text-align: right;\n",
       "    }\n",
       "</style>\n",
       "<table border=\"1\" class=\"dataframe\">\n",
       "  <thead>\n",
       "    <tr style=\"text-align: right;\">\n",
       "      <th></th>\n",
       "      <th>cmd</th>\n",
       "      <th>query</th>\n",
       "      <th>date</th>\n",
       "      <th>version</th>\n",
       "      <th>status</th>\n",
       "      <th>id</th>\n",
       "      <th>agent</th>\n",
       "      <th>ip</th>\n",
       "    </tr>\n",
       "  </thead>\n",
       "  <tbody>\n",
       "    <tr>\n",
       "      <th>0</th>\n",
       "      <td>GET</td>\n",
       "      <td>/api/v1/sales?page=86</td>\n",
       "      <td>16/Apr/2019:193452+0000</td>\n",
       "      <td>HTTP/1.1</td>\n",
       "      <td>200</td>\n",
       "      <td>510348</td>\n",
       "      <td>python-requests/2.21.0</td>\n",
       "      <td>97.105.19.58</td>\n",
       "    </tr>\n",
       "    <tr>\n",
       "      <th>1</th>\n",
       "      <td>POST</td>\n",
       "      <td>/users_accounts/file-upload</td>\n",
       "      <td>16/Apr/2019:193452+0000</td>\n",
       "      <td>HTTP/1.1</td>\n",
       "      <td>201</td>\n",
       "      <td>42</td>\n",
       "      <td>User-Agent: Mozilla/5.0 (X11; Fedora; Fedora; ...</td>\n",
       "      <td>97.105.19.58</td>\n",
       "    </tr>\n",
       "    <tr>\n",
       "      <th>2</th>\n",
       "      <td>GET</td>\n",
       "      <td>/api/v1/items?page=3</td>\n",
       "      <td>16/Apr/2019:193453+0000</td>\n",
       "      <td>HTTP/1.1</td>\n",
       "      <td>429</td>\n",
       "      <td>3561</td>\n",
       "      <td>python-requests/2.21.0</td>\n",
       "      <td>97.105.19.58</td>\n",
       "    </tr>\n",
       "  </tbody>\n",
       "</table>\n",
       "</div>"
      ],
      "text/plain": [
       "    cmd                        query                     date   version  \\\n",
       "0   GET        /api/v1/sales?page=86  16/Apr/2019:193452+0000  HTTP/1.1   \n",
       "1  POST  /users_accounts/file-upload  16/Apr/2019:193452+0000  HTTP/1.1   \n",
       "2   GET         /api/v1/items?page=3  16/Apr/2019:193453+0000  HTTP/1.1   \n",
       "\n",
       "  status      id                                              agent  \\\n",
       "0    200  510348                             python-requests/2.21.0   \n",
       "1    201      42  User-Agent: Mozilla/5.0 (X11; Fedora; Fedora; ...   \n",
       "2    429    3561                             python-requests/2.21.0   \n",
       "\n",
       "             ip  \n",
       "0  97.105.19.58  \n",
       "1  97.105.19.58  \n",
       "2  97.105.19.58  "
      ]
     },
     "execution_count": 30,
     "metadata": {},
     "output_type": "execute_result"
    }
   ],
   "source": [
    "df"
   ]
  },
  {
   "cell_type": "markdown",
   "id": "c1e8aceb",
   "metadata": {},
   "source": [
    "Bonus Exercise\n",
    "\n",
    "You can find a list of words on your mac at /usr/share/dict/words. Use this file to answer the following questions:\n",
    "\n",
    "\n",
    "- How many words have at least 3 vowels?\n",
    "- How many words have at least 3 vowels in a row?\n",
    "- How many words have at least 4 consonants in a row?\n",
    "- How many words start and end with the same letter?\n",
    "- How many words start and end with a vowel?\n",
    "- How many words contain the same letter 3 times in a row?\n",
    "- What other interesting patterns in words can you find?"
   ]
  },
  {
   "cell_type": "code",
   "execution_count": 13,
   "id": "45d5bafa",
   "metadata": {},
   "outputs": [
    {
     "data": {
      "text/html": [
       "<div>\n",
       "<style scoped>\n",
       "    .dataframe tbody tr th:only-of-type {\n",
       "        vertical-align: middle;\n",
       "    }\n",
       "\n",
       "    .dataframe tbody tr th {\n",
       "        vertical-align: top;\n",
       "    }\n",
       "\n",
       "    .dataframe thead th {\n",
       "        text-align: right;\n",
       "    }\n",
       "</style>\n",
       "<table border=\"1\" class=\"dataframe\">\n",
       "  <thead>\n",
       "    <tr style=\"text-align: right;\">\n",
       "      <th></th>\n",
       "      <th>A</th>\n",
       "    </tr>\n",
       "  </thead>\n",
       "  <tbody>\n",
       "    <tr>\n",
       "      <th>0</th>\n",
       "      <td>a</td>\n",
       "    </tr>\n",
       "    <tr>\n",
       "      <th>1</th>\n",
       "      <td>aa</td>\n",
       "    </tr>\n",
       "    <tr>\n",
       "      <th>2</th>\n",
       "      <td>aal</td>\n",
       "    </tr>\n",
       "    <tr>\n",
       "      <th>3</th>\n",
       "      <td>aalii</td>\n",
       "    </tr>\n",
       "    <tr>\n",
       "      <th>4</th>\n",
       "      <td>aam</td>\n",
       "    </tr>\n",
       "  </tbody>\n",
       "</table>\n",
       "</div>"
      ],
      "text/plain": [
       "       A\n",
       "0      a\n",
       "1     aa\n",
       "2    aal\n",
       "3  aalii\n",
       "4    aam"
      ]
     },
     "execution_count": 13,
     "metadata": {},
     "output_type": "execute_result"
    }
   ],
   "source": [
    "words = pd.read_csv('words')\n",
    "words.head()"
   ]
  },
  {
   "cell_type": "code",
   "execution_count": 25,
   "id": "b701d4d5",
   "metadata": {},
   "outputs": [
    {
     "data": {
      "text/plain": [
       "191365.0"
      ]
     },
     "execution_count": 25,
     "metadata": {},
     "output_type": "execute_result"
    }
   ],
   "source": [
    "# at least 3 vowels\n",
    "words.A.str.count(r'[aeiouAEIOU].*[aeiouAEIOU].*[aeiouAEIOU]').sum()"
   ]
  },
  {
   "cell_type": "code",
   "execution_count": 15,
   "id": "50c78dcc",
   "metadata": {},
   "outputs": [
    {
     "data": {
      "text/plain": [
       "6251.0"
      ]
     },
     "execution_count": 15,
     "metadata": {},
     "output_type": "execute_result"
    }
   ],
   "source": [
    "# 3 vowels in a row\n",
    "words.A.str.count(r'[aeiouAEIOU][aeiouAEIOU][aeiouAEIOU]').sum()"
   ]
  },
  {
   "cell_type": "code",
   "execution_count": 16,
   "id": "98a63f7e",
   "metadata": {},
   "outputs": [
    {
     "data": {
      "text/plain": [
       "19640.0"
      ]
     },
     "execution_count": 16,
     "metadata": {},
     "output_type": "execute_result"
    }
   ],
   "source": [
    "# 4 consonants in a row\n",
    "words.A.str.count(r'[^aeiouAEIOU][^aeiouAEIOU][^aeiouAEIOU][^aeiouAEIOU]').sum()"
   ]
  },
  {
   "cell_type": "code",
   "execution_count": 17,
   "id": "993f253e",
   "metadata": {},
   "outputs": [
    {
     "data": {
      "text/plain": [
       "9967"
      ]
     },
     "execution_count": 17,
     "metadata": {},
     "output_type": "execute_result"
    }
   ],
   "source": [
    "# start and end with same letter\n",
    "(words.A.str[0] == words.A.str[-1]).sum()"
   ]
  },
  {
   "cell_type": "code",
   "execution_count": 18,
   "id": "2b19e917",
   "metadata": {},
   "outputs": [
    {
     "data": {
      "text/plain": [
       "14657.0"
      ]
     },
     "execution_count": 18,
     "metadata": {},
     "output_type": "execute_result"
    }
   ],
   "source": [
    "# start and end with a vowel\n",
    "words.A.str.count(r'^[aeiouAEIOU].*[aeiouAEIOU]$').sum()"
   ]
  },
  {
   "cell_type": "code",
   "execution_count": 26,
   "id": "ed76c410",
   "metadata": {},
   "outputs": [
    {
     "name": "stdout",
     "output_type": "stream",
     "text": [
      "7.0\n"
     ]
    }
   ],
   "source": [
    "# contain the same letter 3 times in a row\n",
    "import string\n",
    "alphabet = list(string.ascii_lowercase)\n",
    "sum3x = 0\n",
    "for letter in alphabet:\n",
    "    sum3x += words.A.str.count(letter * 3).sum()\n",
    "print(sum3x)"
   ]
  },
  {
   "cell_type": "code",
   "execution_count": 20,
   "id": "06bb7444",
   "metadata": {},
   "outputs": [
    {
     "data": {
      "text/plain": [
       "235885"
      ]
     },
     "execution_count": 20,
     "metadata": {},
     "output_type": "execute_result"
    }
   ],
   "source": [
    "len(words)"
   ]
  },
  {
   "cell_type": "code",
   "execution_count": null,
   "id": "120e67e8",
   "metadata": {},
   "outputs": [],
   "source": []
  }
 ],
 "metadata": {
  "kernelspec": {
   "display_name": "Python 3 (ipykernel)",
   "language": "python",
   "name": "python3"
  },
  "language_info": {
   "codemirror_mode": {
    "name": "ipython",
    "version": 3
   },
   "file_extension": ".py",
   "mimetype": "text/x-python",
   "name": "python",
   "nbconvert_exporter": "python",
   "pygments_lexer": "ipython3",
   "version": "3.8.8"
  }
 },
 "nbformat": 4,
 "nbformat_minor": 5
}
